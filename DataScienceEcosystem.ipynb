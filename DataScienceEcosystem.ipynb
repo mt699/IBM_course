{
 "cells": [
  {
   "cell_type": "markdown",
   "id": "7adc923c-5f3e-4f37-b61c-380aaae0adcb",
   "metadata": {},
   "source": [
    "# Data Science Tools and Ecosystem"
   ]
  },
  {
   "cell_type": "markdown",
   "id": "2f9c9306-56d5-40ed-9b1b-a1acc3c3a0e1",
   "metadata": {},
   "source": [
    "## In this notebook, Data Science Tools and Ecosystem are summarized."
   ]
  },
  {
   "cell_type": "markdown",
   "id": "60723059-b499-4c89-8abe-c26eeb1df2ff",
   "metadata": {},
   "source": [
    "**Objectives**\n",
    "- list data science languages\n",
    "- list data science libraries\n",
    "- Create a markdown cell with a table of Data Science tools\n",
    "- Create a code cell to multiply and add numbers\n",
    "- Create a code cell to convert minutes to hours"
   ]
  },
  {
   "cell_type": "markdown",
   "id": "dc80a7d8-08ec-4f0a-9ee6-3d22e54ad6b3",
   "metadata": {},
   "source": [
    "### Some of the popular languages that Data Scientists use are:\n",
    "1. Python\n",
    "2. SQL\n",
    "3. R\n",
    "4. Julia"
   ]
  },
  {
   "cell_type": "markdown",
   "id": "96cb6f22-0aa2-404c-bc38-ab55c7702444",
   "metadata": {},
   "source": [
    "# Some of the commonly used libraries used by Data Scientists include:\n",
    "1. NumPy\n",
    "2. Pandas\n",
    "3. Matplotlib"
   ]
  },
  {
   "cell_type": "markdown",
   "id": "a754c508-b149-4282-afa8-7690821f6219",
   "metadata": {},
   "source": [
    "|Data Science Tools|\n",
    "|------------------|\n",
    "|Git|\n",
    "|Atoms|\n",
    "|Eclipse|"
   ]
  },
  {
   "cell_type": "markdown",
   "id": "7a1bf5cd-5102-4e52-954a-68a450139da4",
   "metadata": {},
   "source": [
    "### Below are a few examples of evaluating arithmetic expressions in Python"
   ]
  },
  {
   "cell_type": "code",
   "execution_count": 5,
   "id": "4d01d090-68f0-4a4d-9858-681f1f8fe3ea",
   "metadata": {},
   "outputs": [
    {
     "data": {
      "text/plain": [
       "17"
      ]
     },
     "execution_count": 5,
     "metadata": {},
     "output_type": "execute_result"
    }
   ],
   "source": [
    "#This a simple arithmetic expression to mutiply then add integers\n",
    "(3*4)+5"
   ]
  },
  {
   "cell_type": "code",
   "execution_count": 6,
   "id": "f32c75a2-dc07-4426-adff-893fda450df1",
   "metadata": {},
   "outputs": [
    {
     "data": {
      "text/plain": [
       "3.3333333333333335"
      ]
     },
     "execution_count": 6,
     "metadata": {},
     "output_type": "execute_result"
    }
   ],
   "source": [
    "# This will convert 200 minutes to hours by diving by 60\n",
    "200/60"
   ]
  },
  {
   "cell_type": "markdown",
   "id": "c38457a8-905d-4d3f-9e78-572426e06f39",
   "metadata": {},
   "source": [
    "## Author\n",
    "*Marco*"
   ]
  },
  {
   "cell_type": "code",
   "execution_count": null,
   "id": "0e78ed8a-f9a9-492b-9201-d2119ae25144",
   "metadata": {},
   "outputs": [],
   "source": []
  }
 ],
 "metadata": {
  "kernelspec": {
   "display_name": "Python 3 (ipykernel)",
   "language": "python",
   "name": "python3"
  },
  "language_info": {
   "codemirror_mode": {
    "name": "ipython",
    "version": 3
   },
   "file_extension": ".py",
   "mimetype": "text/x-python",
   "name": "python",
   "nbconvert_exporter": "python",
   "pygments_lexer": "ipython3",
   "version": "3.11.7"
  }
 },
 "nbformat": 4,
 "nbformat_minor": 5
}
